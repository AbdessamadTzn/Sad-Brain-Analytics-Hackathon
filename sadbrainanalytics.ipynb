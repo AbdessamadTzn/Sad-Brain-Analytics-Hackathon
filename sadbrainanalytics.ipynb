{
 "cells": [
  {
   "cell_type": "code",
   "execution_count": 13,
   "metadata": {},
   "outputs": [],
   "source": [
    "import os\n",
    "\n",
    "# Create the emissions folder if it doesn't exist\n",
    "if not os.path.exists('./emissions'):\n",
    "\tos.makedirs('./emissions')\n",
    "\n",
    "#improt file in \"Sad-Brain-Analytics-Hackathon\\carbon_tracker.py\"\n",
    "%run carbon_tracker.py\n",
    "import carbon_tracker\n",
    "carbon_tracker.start_tracker()"
   ]
  },
  {
   "cell_type": "code",
   "execution_count": 14,
   "metadata": {},
   "outputs": [
    {
     "name": "stdout",
     "output_type": "stream",
     "text": [
      "49999995000000\n"
     ]
    }
   ],
   "source": [
    "sum = 0\n",
    "for i in range(10000000):\n",
    "    sum += i\n",
    "print(sum)\n",
    "\n",
    "carbon_tracker.update_project_name(\"Test 555\")\n"
   ]
  },
  {
   "cell_type": "code",
   "execution_count": 15,
   "metadata": {},
   "outputs": [
    {
     "name": "stdout",
     "output_type": "stream",
     "text": [
      "50000445000000\n"
     ]
    }
   ],
   "source": [
    "sum = 0\n",
    "for i in range(10000000):\n",
    "    sum += i\n",
    "    \n",
    "    for i in range(10):\n",
    "        sum += i\n",
    "\n",
    "\n",
    "print(sum)\n",
    "\n",
    "carbon_tracker.update_project_name(\"Test 002\")"
   ]
  }
 ],
 "metadata": {
  "kernelspec": {
   "display_name": "DataScience.env",
   "language": "python",
   "name": "python3"
  },
  "language_info": {
   "codemirror_mode": {
    "name": "ipython",
    "version": 3
   },
   "file_extension": ".py",
   "mimetype": "text/x-python",
   "name": "python",
   "nbconvert_exporter": "python",
   "pygments_lexer": "ipython3",
   "version": "3.11.9"
  }
 },
 "nbformat": 4,
 "nbformat_minor": 2
}
