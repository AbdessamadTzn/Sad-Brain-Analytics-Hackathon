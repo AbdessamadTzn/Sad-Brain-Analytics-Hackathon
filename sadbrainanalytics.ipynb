{
 "cells": [
  {
   "cell_type": "code",
   "execution_count": 66,
   "metadata": {},
   "outputs": [],
   "source": [
    "import os\n",
    "import carbon_tracker\n",
    "\n",
    "# Create the emissions folder if it doesn't exist\n",
    "if not os.path.exists('./emissions'):\n",
    "\tos.makedirs('./emissions')\n",
    "\n",
    "#improt file in \"Sad-Brain-Analytics-Hackathon\\carbon_tracker.py\"\n",
    "%run carbon_tracker.py\n",
    "carbon_tracker.start_tracker()"
   ]
  },
  {
   "cell_type": "markdown",
   "metadata": {},
   "source": [
    "# **Import libraries:**"
   ]
  },
  {
   "cell_type": "code",
   "execution_count": 67,
   "metadata": {},
   "outputs": [],
   "source": [
    "import pandas as pd \n",
    "import matplotlib.pyplot as plt \n",
    "import seaborn as sns \n",
    "carbon_tracker.start_tracker()\n",
    "carbon_tracker.update_project_name('Import Libraries')"
   ]
  },
  {
   "cell_type": "markdown",
   "metadata": {},
   "source": [
    "# **Prepare Data:**"
   ]
  },
  {
   "cell_type": "code",
   "execution_count": 68,
   "metadata": {},
   "outputs": [],
   "source": [
    "df = pd.read_csv(\"final_depression_dataset_1.csv\")\n",
    "df.head()\n",
    "carbon_tracker.update_project_name('Read dataset')"
   ]
  },
  {
   "cell_type": "code",
   "execution_count": 69,
   "metadata": {},
   "outputs": [
    {
     "data": {
      "text/plain": [
       "(2556, 19)"
      ]
     },
     "execution_count": 69,
     "metadata": {},
     "output_type": "execute_result"
    }
   ],
   "source": [
    "df.shape"
   ]
  },
  {
   "cell_type": "code",
   "execution_count": 70,
   "metadata": {},
   "outputs": [
    {
     "name": "stdout",
     "output_type": "stream",
     "text": [
      "Data Type  Size (Bytes) Min Value                 Max Value                \n",
      "---------------------------------------------------------------------------\n",
      "int8       1            -128                      127                      \n",
      "int16      2            -32768                    32767                    \n",
      "int32      4            -2147483648               2147483647               \n",
      "int64      8            -9223372036854775808      9223372036854775807      \n",
      "uint8      1            0                         255                      \n",
      "uint16     2            0                         65535                    \n",
      "uint32     4            0                         4294967295               \n",
      "uint64     8            0                         18446744073709551615     \n",
      "float16    2            -65504.0                  65504.0                  \n",
      "float32    4            -3.4028234663852886e+38   3.4028234663852886e+38   \n",
      "float64    8            -1.7976931348623157e+308  1.7976931348623157e+308  \n"
     ]
    }
   ],
   "source": [
    "import numpy as np\n",
    "\n",
    "def print_dtype_info():\n",
    "    # Define types to inspect\n",
    "    dtypes = [np.int8, np.int16, np.int32, np.int64, np.uint8, np.uint16, \n",
    "              np.uint32, np.uint64, np.float16, np.float32, np.float64]\n",
    "    \n",
    "    print(f\"{'Data Type':<10} {'Size (Bytes)':<12} {'Min Value':<25} {'Max Value':<25}\")\n",
    "    print(\"-\" * 75)\n",
    "    \n",
    "    for dtype in dtypes:\n",
    "        info = np.iinfo(dtype) if np.issubdtype(dtype, np.integer) else np.finfo(dtype)\n",
    "        print(f\"{dtype.__name__:<10} {np.dtype(dtype).itemsize:<12} {info.min:<25} {info.max:<25}\")\n",
    "\n",
    "print_dtype_info()\n"
   ]
  },
  {
   "cell_type": "code",
   "execution_count": 71,
   "metadata": {},
   "outputs": [
    {
     "name": "stdout",
     "output_type": "stream",
     "text": [
      "<class 'pandas.core.frame.DataFrame'>\n",
      "RangeIndex: 2556 entries, 0 to 2555\n",
      "Data columns (total 19 columns):\n",
      " #   Column                                 Non-Null Count  Dtype  \n",
      "---  ------                                 --------------  -----  \n",
      " 0   Name                                   2556 non-null   object \n",
      " 1   Gender                                 2556 non-null   object \n",
      " 2   Age                                    2556 non-null   int64  \n",
      " 3   City                                   2556 non-null   object \n",
      " 4   Working Professional or Student        2556 non-null   object \n",
      " 5   Profession                             1883 non-null   object \n",
      " 6   Academic Pressure                      502 non-null    float64\n",
      " 7   Work Pressure                          2054 non-null   float64\n",
      " 8   CGPA                                   502 non-null    float64\n",
      " 9   Study Satisfaction                     502 non-null    float64\n",
      " 10  Job Satisfaction                       2054 non-null   float64\n",
      " 11  Sleep Duration                         2556 non-null   object \n",
      " 12  Dietary Habits                         2556 non-null   object \n",
      " 13  Degree                                 2556 non-null   object \n",
      " 14  Have you ever had suicidal thoughts ?  2556 non-null   object \n",
      " 15  Work/Study Hours                       2556 non-null   int64  \n",
      " 16  Financial Stress                       2556 non-null   int64  \n",
      " 17  Family History of Mental Illness       2556 non-null   object \n",
      " 18  Depression                             2556 non-null   object \n",
      "dtypes: float64(5), int64(3), object(11)\n",
      "memory usage: 379.5+ KB\n"
     ]
    }
   ],
   "source": [
    "df.info()"
   ]
  },
  {
   "cell_type": "markdown",
   "metadata": {},
   "source": [
    "### *Handling null values:*"
   ]
  },
  {
   "cell_type": "code",
   "execution_count": 72,
   "metadata": {},
   "outputs": [
    {
     "data": {
      "text/plain": [
       "Name                                        0\n",
       "Gender                                      0\n",
       "Age                                         0\n",
       "City                                        0\n",
       "Working Professional or Student             0\n",
       "Profession                                673\n",
       "Academic Pressure                        2054\n",
       "Work Pressure                             502\n",
       "CGPA                                     2054\n",
       "Study Satisfaction                       2054\n",
       "Job Satisfaction                          502\n",
       "Sleep Duration                              0\n",
       "Dietary Habits                              0\n",
       "Degree                                      0\n",
       "Have you ever had suicidal thoughts ?       0\n",
       "Work/Study Hours                            0\n",
       "Financial Stress                            0\n",
       "Family History of Mental Illness            0\n",
       "Depression                                  0\n",
       "dtype: int64"
      ]
     },
     "execution_count": 72,
     "metadata": {},
     "output_type": "execute_result"
    }
   ],
   "source": [
    "df.isnull().sum()"
   ]
  },
  {
   "cell_type": "markdown",
   "metadata": {},
   "source": [
    "Out of 2556 entries, the columns Academic Pressure, CGPA, and Study Satisfaction have 2054 null values each. Since these columns contain mostly missing data, removing them will not significantly impact our model training. On the other hand, Profession and Job Satisfaction are important features for our model and should be retained."
   ]
  },
  {
   "cell_type": "code",
   "execution_count": 73,
   "metadata": {},
   "outputs": [
    {
     "data": {
      "text/plain": [
       "(2556, 16)"
      ]
     },
     "execution_count": 73,
     "metadata": {},
     "output_type": "execute_result"
    }
   ],
   "source": [
    "# Drop unecessary columns\n",
    "\n",
    "df = df.drop(['Academic Pressure', 'CGPA', 'Study Satisfaction'], axis=1)\n",
    "df.shape\n"
   ]
  },
  {
   "cell_type": "code",
   "execution_count": 74,
   "metadata": {},
   "outputs": [],
   "source": [
    "df['Profession'] = df['Profession'].fillna('Uknown')"
   ]
  },
  {
   "cell_type": "code",
   "execution_count": 75,
   "metadata": {},
   "outputs": [
    {
     "data": {
      "text/plain": [
       "Name                                       0\n",
       "Gender                                     0\n",
       "Age                                        0\n",
       "City                                       0\n",
       "Working Professional or Student            0\n",
       "Profession                                 0\n",
       "Work Pressure                            502\n",
       "Job Satisfaction                         502\n",
       "Sleep Duration                             0\n",
       "Dietary Habits                             0\n",
       "Degree                                     0\n",
       "Have you ever had suicidal thoughts ?      0\n",
       "Work/Study Hours                           0\n",
       "Financial Stress                           0\n",
       "Family History of Mental Illness           0\n",
       "Depression                                 0\n",
       "dtype: int64"
      ]
     },
     "execution_count": 75,
     "metadata": {},
     "output_type": "execute_result"
    }
   ],
   "source": [
    "df.isnull().sum()"
   ]
  },
  {
   "cell_type": "code",
   "execution_count": 76,
   "metadata": {},
   "outputs": [],
   "source": [
    "# Replace null values with most commun\n",
    "df = df.apply(lambda column: column.fillna(column.mode()[0]) if column.isna().any() else column)"
   ]
  },
  {
   "cell_type": "code",
   "execution_count": 77,
   "metadata": {},
   "outputs": [
    {
     "data": {
      "text/plain": [
       "Name                                     0\n",
       "Gender                                   0\n",
       "Age                                      0\n",
       "City                                     0\n",
       "Working Professional or Student          0\n",
       "Profession                               0\n",
       "Work Pressure                            0\n",
       "Job Satisfaction                         0\n",
       "Sleep Duration                           0\n",
       "Dietary Habits                           0\n",
       "Degree                                   0\n",
       "Have you ever had suicidal thoughts ?    0\n",
       "Work/Study Hours                         0\n",
       "Financial Stress                         0\n",
       "Family History of Mental Illness         0\n",
       "Depression                               0\n",
       "dtype: int64"
      ]
     },
     "execution_count": 77,
     "metadata": {},
     "output_type": "execute_result"
    }
   ],
   "source": [
    "df.isnull().sum()"
   ]
  },
  {
   "cell_type": "markdown",
   "metadata": {},
   "source": [
    "## *Datatype Casting:*"
   ]
  },
  {
   "cell_type": "code",
   "execution_count": 78,
   "metadata": {},
   "outputs": [
    {
     "name": "stdout",
     "output_type": "stream",
     "text": [
      "<class 'pandas.core.frame.DataFrame'>\n",
      "RangeIndex: 2556 entries, 0 to 2555\n",
      "Data columns (total 16 columns):\n",
      " #   Column                                 Non-Null Count  Dtype  \n",
      "---  ------                                 --------------  -----  \n",
      " 0   Name                                   2556 non-null   object \n",
      " 1   Gender                                 2556 non-null   object \n",
      " 2   Age                                    2556 non-null   int64  \n",
      " 3   City                                   2556 non-null   object \n",
      " 4   Working Professional or Student        2556 non-null   object \n",
      " 5   Profession                             2556 non-null   object \n",
      " 6   Work Pressure                          2556 non-null   float64\n",
      " 7   Job Satisfaction                       2556 non-null   float64\n",
      " 8   Sleep Duration                         2556 non-null   object \n",
      " 9   Dietary Habits                         2556 non-null   object \n",
      " 10  Degree                                 2556 non-null   object \n",
      " 11  Have you ever had suicidal thoughts ?  2556 non-null   object \n",
      " 12  Work/Study Hours                       2556 non-null   int64  \n",
      " 13  Financial Stress                       2556 non-null   int64  \n",
      " 14  Family History of Mental Illness       2556 non-null   object \n",
      " 15  Depression                             2556 non-null   object \n",
      "dtypes: float64(2), int64(3), object(11)\n",
      "memory usage: 319.6+ KB\n"
     ]
    }
   ],
   "source": [
    "def calculate_memory(df):\n",
    "    mem_usage = df.memory_usage(deep=True).sum()\n",
    "    return mem_usage\n",
    "    \n",
    "df.info()\n"
   ]
  },
  {
   "cell_type": "code",
   "execution_count": 79,
   "metadata": {},
   "outputs": [
    {
     "name": "stdout",
     "output_type": "stream",
     "text": [
      "Memory usage before type conversions: 1676894 bytes\n",
      "Memory usage after type conversions: 760434 bytes\n",
      "Memory saved: 916460 bytes (54.65% reduction)\n",
      "Name                                     string[python]\n",
      "Gender                                         category\n",
      "Age                                               int16\n",
      "City                                     string[python]\n",
      "Working Professional or Student                category\n",
      "Profession                                     category\n",
      "Work Pressure                                      int8\n",
      "Job Satisfaction                                   int8\n",
      "Sleep Duration                           string[python]\n",
      "Dietary Habits                           string[python]\n",
      "Degree                                   string[python]\n",
      "Have you ever had suicidal thoughts ?          category\n",
      "Work/Study Hours                                  int16\n",
      "Financial Stress                                   int8\n",
      "Family History of Mental Illness               category\n",
      "Depression                                     category\n",
      "dtype: object\n"
     ]
    }
   ],
   "source": [
    "initial_memory = calculate_memory(df)\n",
    "print(f\"Memory usage before type conversions: {initial_memory} bytes\")\n",
    "\n",
    "\n",
    "df['Name'] = df['Name'].astype('string')\n",
    "df['Sleep Duration'] = df['Sleep Duration'].astype('string')\n",
    "df['Dietary Habits'] = df['Dietary Habits'].astype('string')\n",
    "df['Degree'] = df['Degree'].astype('string')\n",
    "df['City'] = df['City'].astype('string')\n",
    "\n",
    "df['Age'] = df['Age'].astype('int16')  # Better for larger numbers\n",
    "df['Work/Study Hours'] = df['Work/Study Hours'].astype('int16')\n",
    "df['Financial Stress'] = df['Financial Stress'].astype('int8')\n",
    "\n",
    "# Handle potential float to int conversion safely\n",
    "df['Work Pressure'] = df['Work Pressure'].fillna(0).round().astype('int8')\n",
    "df['Job Satisfaction'] = df['Job Satisfaction'].fillna(0).round().astype('int8')\n",
    "\n",
    "# Categorical conversions\n",
    "df['Gender'] = df['Gender'].astype('category')\n",
    "df['Working Professional or Student'] = df['Working Professional or Student'].astype('category')\n",
    "df['Profession'] = df['Profession'].astype('category')\n",
    "df['Depression'] = df['Depression'].astype('category')\n",
    "df['Family History of Mental Illness'] = df['Family History of Mental Illness'].astype('category')\n",
    "df['Have you ever had suicidal thoughts ?'] = df['Have you ever had suicidal thoughts ?'].astype('category')\n",
    "final_memory = calculate_memory(df)\n",
    "print(f\"Memory usage after type conversions: {final_memory} bytes\")\n",
    "\n",
    "# Memory savings\n",
    "memory_saved = initial_memory - final_memory\n",
    "print(f\"Memory saved: {memory_saved} bytes ({(memory_saved / initial_memory) * 100:.2f}% reduction)\")\n",
    "print(df.dtypes)"
   ]
  },
  {
   "cell_type": "markdown",
   "metadata": {},
   "source": [
    " For memory efficiency, string dtypre ismore efficient than object because it is optimized for text data, while object dtype can store mixed types but uses more memory for purely textual data."
   ]
  },
  {
   "cell_type": "markdown",
   "metadata": {},
   "source": [
    "### *Handle duplicated*:"
   ]
  },
  {
   "cell_type": "code",
   "execution_count": 80,
   "metadata": {},
   "outputs": [
    {
     "data": {
      "text/plain": [
       "np.int64(0)"
      ]
     },
     "execution_count": 80,
     "metadata": {},
     "output_type": "execute_result"
    }
   ],
   "source": [
    "df.duplicated().sum()"
   ]
  },
  {
   "cell_type": "code",
   "execution_count": 81,
   "metadata": {},
   "outputs": [],
   "source": [
    "carbon_tracker.update_project_name('Data Cleaning')\n",
    "carbon_tracker.update_project_name('Data Cleaning')"
   ]
  }
 ],
 "metadata": {
  "kernelspec": {
   "display_name": "venv",
   "language": "python",
   "name": "python3"
  },
  "language_info": {
   "codemirror_mode": {
    "name": "ipython",
    "version": 3
   },
   "file_extension": ".py",
   "mimetype": "text/x-python",
   "name": "python",
   "nbconvert_exporter": "python",
   "pygments_lexer": "ipython3",
   "version": "3.13.0"
  }
 },
 "nbformat": 4,
 "nbformat_minor": 2
}
